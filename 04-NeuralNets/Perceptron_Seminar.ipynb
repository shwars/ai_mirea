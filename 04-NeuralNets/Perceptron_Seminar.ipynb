{
 "cells": [
  {
   "cell_type": "markdown",
   "metadata": {},
   "source": [
    "# Обучаем персептрон распознавать классы вин"
   ]
  },
  {
   "cell_type": "code",
   "execution_count": 48,
   "metadata": {},
   "outputs": [],
   "source": [
    "import numpy as np\n",
    "import sklearn\n",
    "import sklearn.datasets\n",
    "import sklearn.model_selection\n",
    "import random"
   ]
  },
  {
   "cell_type": "code",
   "execution_count": 8,
   "metadata": {},
   "outputs": [
    {
     "name": "stdout",
     "output_type": "stream",
     "text": [
      "(178, 13) (178,)\n"
     ]
    }
   ],
   "source": [
    "X,Y = sklearn.datasets.load_wine(return_X_y=True)\n",
    "print(X.shape, Y.shape)"
   ]
  },
  {
   "cell_type": "code",
   "execution_count": 40,
   "metadata": {},
   "outputs": [
    {
     "data": {
      "text/plain": [
       "(178, 14)"
      ]
     },
     "execution_count": 40,
     "metadata": {},
     "output_type": "execute_result"
    }
   ],
   "source": [
    "Xsc = sklearn.preprocessing.StandardScaler().fit_transform(X)\n",
    "Xsc1 = np.hstack([Xsc,np.ones_like(Xsc[:,0:1])])\n",
    "Xsc1.shape\n"
   ]
  },
  {
   "cell_type": "code",
   "execution_count": 41,
   "metadata": {},
   "outputs": [],
   "source": [
    "train_x, test_x, train_y, test_y = sklearn.model_selection.train_test_split(Xsc,Y,stratify=Y, test_size=15)"
   ]
  },
  {
   "cell_type": "code",
   "execution_count": 42,
   "metadata": {},
   "outputs": [],
   "source": [
    "def train(positive_examples, negative_examples, num_iterations = 100, eta = 1, report_frequency = 10):\n",
    "    \n",
    "    num_dims = positive_examples.shape[1]\n",
    "    \n",
    "    # Для простоты инициализируем веса нулями\n",
    "    weights = np.zeros((num_dims,1)) \n",
    "    \n",
    "    pos_count = positive_examples.shape[0]\n",
    "    neg_count = negative_examples.shape[0]\n",
    "    \n",
    "    for i in range(num_iterations):\n",
    "\n",
    "        pos = random.choice(positive_examples)\n",
    "        neg = random.choice(negative_examples)\n",
    "\n",
    "        z = np.dot(pos, weights)   \n",
    "        if z < 0: # позитивный пример классифицирован как негативный\n",
    "            weights = weights + pos.reshape(weights.shape)\n",
    "\n",
    "        z  = np.dot(neg, weights)\n",
    "        if z >= 0: # негативный пример классифицирован как позитивный\n",
    "            weights = weights - neg.reshape(weights.shape)\n",
    "            \n",
    "        # Periodically, print out the current accuracy on all examples \n",
    "        if i % report_frequency == 0:             \n",
    "            pos_out = np.dot(positive_examples, weights)\n",
    "            neg_out = np.dot(negative_examples, weights)        \n",
    "            pos_correct = (pos_out >= 0).sum() / float(pos_count)\n",
    "            neg_correct = (neg_out < 0).sum() / float(neg_count)\n",
    "            print(\"Iteration={}, pos correct={}, neg correct={}\".format(i,pos_correct,neg_correct))\n",
    "\n",
    "    return weights"
   ]
  },
  {
   "cell_type": "code",
   "execution_count": 50,
   "metadata": {},
   "outputs": [
    {
     "name": "stdout",
     "output_type": "stream",
     "text": [
      "Iteration=0, pos correct=0.46296296296296297, neg correct=0.6461538461538462\n",
      "Iteration=10, pos correct=1.0, neg correct=0.9692307692307692\n",
      "Iteration=20, pos correct=1.0, neg correct=0.9692307692307692\n",
      "Iteration=30, pos correct=1.0, neg correct=0.9692307692307692\n",
      "Iteration=40, pos correct=1.0, neg correct=0.9692307692307692\n",
      "Iteration=50, pos correct=0.9444444444444444, neg correct=0.9846153846153847\n",
      "Iteration=60, pos correct=0.9814814814814815, neg correct=0.9846153846153847\n",
      "Iteration=70, pos correct=0.9814814814814815, neg correct=0.9846153846153847\n",
      "Iteration=80, pos correct=0.9814814814814815, neg correct=0.9846153846153847\n",
      "Iteration=90, pos correct=0.9814814814814815, neg correct=0.9846153846153847\n"
     ]
    }
   ],
   "source": [
    "def select_samples(pos_label,neg_label,train=True):\n",
    "    x,y = (train_x,train_y) if train else (test_x,test_y)\n",
    "    pos = [x for x,y in zip(x,y) if y == pos_label]\n",
    "    neg = [x for x,y in zip(x,y) if y == neg_label]\n",
    "    return np.array(pos),np.array(neg)\n",
    "\n",
    "pos,neg = select_samples(0,1)\n",
    "\n",
    "wts = train(pos,neg)"
   ]
  },
  {
   "cell_type": "code",
   "execution_count": 61,
   "metadata": {},
   "outputs": [
    {
     "name": "stdout",
     "output_type": "stream",
     "text": [
      "Accuracy=100.0%\n"
     ]
    }
   ],
   "source": [
    "pos_test, neg_test = select_samples(0,1,train=False)\n",
    "correct = np.sum(pos_test@wts>0)+np.sum(neg_test@wts<0)\n",
    "print(f\"Accuracy={100*correct/(len(pos_test)+len(neg_test))}%\")"
   ]
  },
  {
   "cell_type": "code",
   "execution_count": null,
   "metadata": {},
   "outputs": [],
   "source": []
  }
 ],
 "metadata": {
  "kernelspec": {
   "display_name": "Python 3.9.12 ('base')",
   "language": "python",
   "name": "python3"
  },
  "language_info": {
   "codemirror_mode": {
    "name": "ipython",
    "version": 3
   },
   "file_extension": ".py",
   "mimetype": "text/x-python",
   "name": "python",
   "nbconvert_exporter": "python",
   "pygments_lexer": "ipython3",
   "version": "3.9.12"
  },
  "orig_nbformat": 4,
  "vscode": {
   "interpreter": {
    "hash": "d21c24a7952cc9fa93a33c3da71b373ffe761d6ab0c9cc9b2153e31da51ffb58"
   }
  }
 },
 "nbformat": 4,
 "nbformat_minor": 2
}
